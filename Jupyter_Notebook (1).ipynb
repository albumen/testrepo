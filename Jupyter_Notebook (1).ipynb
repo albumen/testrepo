{
 "cells": [
  {
   "cell_type": "markdown",
   "metadata": {},
   "source": [
    "<center>\n",
    "    <img src=\"https://cf-courses-data.s3.us.cloud-object-storage.appdomain.cloud/IBMDeveloperSkillsNetwork-DS0105EN-SkillsNetwork/labs/Module2/images/SN_web_lightmode.png\" width=\"300\" alt=\"cognitiveclass.ai logo\"  />\n",
    "</center>\n"
   ]
  },
  {
   "cell_type": "markdown",
   "metadata": {},
   "source": [
    "#### Add your code below following the instructions given in the course\n"
   ]
  },
  {
   "cell_type": "markdown",
   "metadata": {},
   "source": [
    "<h1>My Jupyter Notebook on IBM Watson Studio</h1>"
   ]
  },
  {
   "cell_type": "markdown",
   "metadata": {},
   "source": [
    "<b>Clarence Toh</b>"
   ]
  },
  {
   "cell_type": "markdown",
   "metadata": {},
   "source": [
    "<p>Current Occupation: Business Analyst, Desired Occupation: Data Analyst</p>"
   ]
  },
  {
   "cell_type": "markdown",
   "metadata": {},
   "source": [
    "<i>I am interested in data science as it allows for data driven insights</i>"
   ]
  },
  {
   "cell_type": "markdown",
   "metadata": {},
   "source": [
    "<h3>The code below multiplies val by 3</h3>"
   ]
  },
  {
   "cell_type": "code",
   "execution_count": 3,
   "metadata": {},
   "outputs": [
    {
     "name": "stdin",
     "output_type": "stream",
     "text": [
      "Enter your value:  300000\n"
     ]
    },
    {
     "name": "stdout",
     "output_type": "stream",
     "text": [
      "900000\n"
     ]
    }
   ],
   "source": [
    "val = int(input(\"Enter your value: \"))\n",
    "val = val*3\n",
    "print(val)"
   ]
  },
  {
   "cell_type": "markdown",
   "metadata": {},
   "source": [
    "<p>This is a Table</p>\n",
    "<table>\n",
    "<tr>\n",
    "    <th>Col 1</th>\n",
    "    <th>Col 2</th>\n",
    "    <th>Col 3</th>\n",
    "</tr>\n",
    "<tr>\n",
    "    <th>Row 1 Col 1</th>\n",
    "    <th>Row 1 Col 2</th>\n",
    "    <th>Row 1 Col 3</th>\n",
    "</tr>\n",
    "<tr>\n",
    "    <th>Row 2 Col 1</th>\n",
    "    <th>Row 2 Col 2</th>\n",
    "    <th>Row 2 Col 3</th>\n",
    "</tr>    \n",
    "</table>\n",
    "\n",
    "\n",
    "\n",
    "<href><p>Link: </p>www.google.com</href>\n",
    "\n",
    "<p>This is a list</p>\n",
    "<ul>\n",
    "  <li>List Item 1</li>\n",
    "  <li>List Item 2</li>\n",
    "  <li>List Item 3</li>\n",
    "</ul>"
   ]
  }
 ],
 "metadata": {
  "kernelspec": {
   "display_name": "Python",
   "language": "python",
   "name": "conda-env-python-py"
  },
  "language_info": {
   "codemirror_mode": {
    "name": "ipython",
    "version": 3
   },
   "file_extension": ".py",
   "mimetype": "text/x-python",
   "name": "python",
   "nbconvert_exporter": "python",
   "pygments_lexer": "ipython3",
   "version": "3.7.12"
  }
 },
 "nbformat": 4,
 "nbformat_minor": 4
}
